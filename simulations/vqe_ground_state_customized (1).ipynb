{
 "cells": [
  {
   "cell_type": "markdown",
   "metadata": {},
   "source": [
    "# 🧪 Ground State Estimation using VQE for the ANNNI Model\n",
    "\n",
    "This notebook is part of my SoQ project where I'm replicating part of the paper *'Quantum Convolutional Neural Network in ANNNI Model'*. \n",
    "Here, I’ve implemented the **Variational Quantum Eigensolver (VQE)** to estimate the ground state energy of the ANNNI Hamiltonian."
   ]
  },
  {
   "cell_type": "code",
   "metadata": {},
   "source": [
    "# 📦 Import required libraries\n",
    "from qiskit import Aer, execute\n",
    "from qiskit.circuit import QuantumCircuit, ParameterVector\n",
    "from qiskit.opflow import PauliSumOp\n",
    "from qiskit.algorithms import VQE\n",
    "from qiskit.algorithms.optimizers import COBYLA\n",
    "from qiskit.utils import QuantumInstance\n",
    "from qiskit.opflow.primitive_ops import PauliOp\n",
    "import numpy as np\n",
    "import matplotlib.pyplot as plt"
   ]
  },
  {
   "cell_type": "code",
   "metadata": {},
   "source": [
    "# ⚙️ Define the ANNNI Hamiltonian (Z.Z, Z..Z, and X terms)\n",
    "def generate_annni_hamiltonian(n, kappa=0.5, h=1.0):\n",
    "    terms = []\n",
    "    for i in range(n - 1):\n",
    "        z_term = [\"I\"] * n\n",
    "        z_term[i] = \"Z\"\n",
    "        z_term[i + 1] = \"Z\"\n",
    "        terms.append(PauliOp.from_label(\"\".join(z_term)))\n",
    "\n",
    "    for i in range(n - 2):\n",
    "        zz_term = [\"I\"] * n\n",
    "        zz_term[i] = \"Z\"\n",
    "        zz_term[i + 2] = \"Z\"\n",
    "        terms.append(kappa * PauliOp.from_label(\"\".join(zz_term)))\n",
    "\n",
    "    for i in range(n):\n",
    "        x_term = [\"I\"] * n\n",
    "        x_term[i] = \"X\"\n",
    "        terms.append(h * PauliOp.from_label(\"\".join(x_term)))\n",
    "\n",
    "    return sum(terms).reduce()\n",
    "\n",
    "# ▶️ Generate Hamiltonian for 6 qubits\n",
    "n_qubits = 6\n",
    "hamiltonian = generate_annni_hamiltonian(n_qubits)\n",
    "print(\"Hamiltonian constructed successfully.\")"
   ]
  },
  {
   "cell_type": "code",
   "metadata": {},
   "source": [
    "# 🔧 Build a hardware-efficient ansatz\n",
    "def hardware_ansatz(n, depth):\n",
    "    circuit = QuantumCircuit(n)\n",
    "    params = ParameterVector('θ', length=n * depth * 2)\n",
    "\n",
    "    count = 0\n",
    "    for d in range(depth):\n",
    "        for i in range(n):\n",
    "            circuit.ry(params[count], i)\n",
    "            count += 1\n",
    "        for i in range(n - 1):\n",
    "            circuit.cx(i, i + 1)\n",
    "        for i in range(n):\n",
    "            circuit.ry(params[count], i)\n",
    "            count += 1\n",
    "    return circuit, params\n",
    "\n",
    "depth = 3\n",
    "ansatz, parameters = hardware_ansatz(n_qubits, depth)\n",
    "ansatz.draw('mpl')"
   ]
  },
  {
   "cell_type": "code",
   "metadata": {},
   "source": [
    "# 🧮 Run VQE to estimate ground state energy\n",
    "backend = Aer.get_backend('aer_simulator_statevector')\n",
    "qi = QuantumInstance(backend=backend, shots=1024, seed_simulator=42, seed_transpiler=42)\n",
    "\n",
    "vqe = VQE(ansatz=ansatz, optimizer=COBYLA(maxiter=200), quantum_instance=qi)\n",
    "result = vqe.compute_minimum_eigenvalue(operator=hamiltonian)\n",
    "\n",
    "print(\"Estimated Ground State Energy:\", result.eigenvalue.real)"
   ]
  },
  {
   "cell_type": "markdown",
   "metadata": {},
   "source": [
    "### ✅ Final Output\n",
    "- Using VQE, we approximated the ground state energy of the ANNNI Hamiltonian.\n",
    "- This forms the first step of the paper I'm replicating for SoQ.\n",
    "\n",
    "**Note**: Accuracy can be improved further with deeper ansatz or better optimizers like SPSA or Adam.\n"
   ]
  }
 ],
 "metadata": {
  "kernelspec": {
   "display_name": "Python 3",
   "name": "python3"
  },
  "language_info": {
   "name": "python",
   "version": "3.9"
  }
 },
 "nbformat": 4,
 "nbformat_minor": 5
}
